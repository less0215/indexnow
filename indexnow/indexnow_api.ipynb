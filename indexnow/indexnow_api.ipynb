{
 "cells": [
  {
   "cell_type": "code",
   "execution_count": 1,
   "metadata": {},
   "outputs": [
    {
     "name": "stdout",
     "output_type": "stream",
     "text": [
      "Generated API Key: c9deeb66db20ba2dc4b7f4bde4e2c113\n",
      "Key File URL will be: https://criminal-lawfirm-dongju.com//c9deeb66db20ba2dc4b7f4bde4e2c113.txt\n",
      "Key file created successfully at: .\\c9deeb66db20ba2dc4b7f4bde4e2c113.txt\n",
      "File URL will be: https://criminal-lawfirm-dongju.com//c9deeb66db20ba2dc4b7f4bde4e2c113.txt\n",
      "Key file verified successfully!\n"
     ]
    }
   ],
   "source": [
    "import os\n",
    "import random\n",
    "import string\n",
    "import hashlib\n",
    "\n",
    "class IndexNowAPI:\n",
    "    def __init__(self, domain):\n",
    "        self.domain = domain\n",
    "        self.key = self.generate_api_key()\n",
    "        \n",
    "    def generate_api_key(self):\n",
    "        \"\"\"Generate a valid IndexNow API key\"\"\"\n",
    "        # Generate a random string of hexadecimal characters\n",
    "        random_string = ''.join(random.choices(string.hexdigits.lower(), k=32))\n",
    "        # Remove any non-allowed characters (only a-f, 0-9, and - are allowed)\n",
    "        cleaned_key = ''.join(c for c in random_string if c in 'abcdef0123456789-')\n",
    "        return cleaned_key\n",
    "        \n",
    "    def create_key_file(self, directory=\".\"):\n",
    "        \"\"\"Create the key file in the specified directory\"\"\"\n",
    "        filename = f\"{self.key}.txt\"\n",
    "        filepath = os.path.join(directory, filename)\n",
    "        \n",
    "        try:\n",
    "            with open(filepath, 'w', encoding='utf-8') as f:\n",
    "                f.write(self.key)\n",
    "            print(f\"Key file created successfully at: {filepath}\")\n",
    "            print(f\"File URL will be: {self.domain}/{filename}\")\n",
    "            return True\n",
    "        except Exception as e:\n",
    "            print(f\"Error creating key file: {e}\")\n",
    "            return False\n",
    "            \n",
    "    def verify_key_file(self, directory=\".\"):\n",
    "        \"\"\"Verify that the key file exists and contains the correct key\"\"\"\n",
    "        filename = f\"{self.key}.txt\"\n",
    "        filepath = os.path.join(directory, filename)\n",
    "        \n",
    "        try:\n",
    "            with open(filepath, 'r', encoding='utf-8') as f:\n",
    "                content = f.read().strip()\n",
    "            return content == self.key\n",
    "        except Exception:\n",
    "            return False\n",
    "            \n",
    "    def get_key_location_url(self):\n",
    "        \"\"\"Get the full URL where the key file should be accessible\"\"\"\n",
    "        return f\"{self.domain}/{self.key}.txt\"\n",
    "\n",
    "# 사용 예시\n",
    "domain = \"https://criminal-lawfirm-dongju.com/\"\n",
    "api = IndexNowAPI(domain)\n",
    "\n",
    "print(f\"Generated API Key: {api.key}\")\n",
    "print(f\"Key File URL will be: {api.get_key_location_url()}\")\n",
    "\n",
    "# 키 파일 생성\n",
    "api.create_key_file()\n",
    "\n",
    "# 키 파일 검증\n",
    "if api.verify_key_file():\n",
    "    print(\"Key file verified successfully!\")\n",
    "else:\n",
    "    print(\"Key file verification failed!\")"
   ]
  }
 ],
 "metadata": {
  "kernelspec": {
   "display_name": "Python 3",
   "language": "python",
   "name": "python3"
  },
  "language_info": {
   "codemirror_mode": {
    "name": "ipython",
    "version": 3
   },
   "file_extension": ".py",
   "mimetype": "text/x-python",
   "name": "python",
   "nbconvert_exporter": "python",
   "pygments_lexer": "ipython3",
   "version": "3.11.9"
  }
 },
 "nbformat": 4,
 "nbformat_minor": 2
}
