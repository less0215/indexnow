{
 "cells": [
  {
   "cell_type": "code",
   "execution_count": 1,
   "metadata": {},
   "outputs": [
    {
     "name": "stdout",
     "output_type": "stream",
     "text": [
      "성공: 모든 페이지 갱신 요청이 완료되었습니다.\n"
     ]
    }
   ],
   "source": [
    "import requests\n",
    "import json\n",
    "\n",
    "def request_multiple_updates(url_list, api_key):\n",
    "    indexnow_url = \"https://searchadvisor.naver.com/indexnow\"\n",
    "    \n",
    "    # POST 요청 데이터\n",
    "    data = {\n",
    "        \"host\": \"fraudembezzlement-dongju.com\",\n",
    "        \"key\": api_key,\n",
    "        \"urlList\": url_list\n",
    "    }\n",
    "    \n",
    "    # POST 요청 보내기\n",
    "    headers = {'Content-Type': 'application/json; charset=utf-8'}\n",
    "    response = requests.post(indexnow_url, json=data, headers=headers)\n",
    "    \n",
    "    if response.status_code == 200:\n",
    "        print(\"성공: 모든 페이지 갱신 요청이 완료되었습니다.\")\n",
    "    elif response.status_code == 202:\n",
    "        print(\"수락됨: URL 정보가 수신되었고, key 확인 중입니다.\")\n",
    "    else:\n",
    "        print(f\"오류 발생: {response.status_code}\")\n",
    "\n",
    "# 사용 예시\n",
    "api_key = \"4e5fbee21bd5e32d6b1eaaef5c822be3\"\n",
    "\n",
    "# 갱신할 URL 목록\n",
    "urls_to_update = [\n",
    "    \"https://sexcrimecenter-dongju.com/bbs/board.php?bo_table=column&wr_id=655\"\n",
    "]\n",
    "\n",
    "# 갱신 요청\n",
    "request_multiple_updates(urls_to_update, api_key)"
   ]
  }
 ],
 "metadata": {
  "kernelspec": {
   "display_name": "Python 3",
   "language": "python",
   "name": "python3"
  },
  "language_info": {
   "codemirror_mode": {
    "name": "ipython",
    "version": 3
   },
   "file_extension": ".py",
   "mimetype": "text/x-python",
   "name": "python",
   "nbconvert_exporter": "python",
   "pygments_lexer": "ipython3",
   "version": "3.11.9"
  }
 },
 "nbformat": 4,
 "nbformat_minor": 2
}
